{
 "cells": [
  {
   "cell_type": "markdown",
   "id": "6677b1aa",
   "metadata": {},
   "source": [
    "## **This script will evaluate the membrane passive propertieis of CRH cells in the BNST between a Sapap3 KO mouse line and a WT line**\n",
    "*Written by Omer Richmond* \n",
    "*Yizhar Lab*\n",
    "*Weizmann institute* "
   ]
  },
  {
   "cell_type": "code",
   "execution_count": 2,
   "id": "fdfa7ff7",
   "metadata": {},
   "outputs": [],
   "source": [
    "import os\n",
    "import numpy as np\n",
    "import matplotlib.pyplot as plt\n",
    "import pyabf\n"
   ]
  },
  {
   "cell_type": "code",
   "execution_count": null,
   "id": "c417022b",
   "metadata": {},
   "outputs": [],
   "source": [
    "# * I would like to plot firing rate as a function of input current* \n",
    "# * I would like to plot one example from every condition for each protocol \n",
    "# * amplitude as a function of stimulation current\n",
    "# * number of EPSCs and number of IPSCs\n",
    "# * Max amplitude of EPSC or IPSC in every cell\n",
    "# (Show also a short sample of that raw trace)\n",
    "# * Scheme of injection site \n",
    "# scheme of breeding metohd \n",
    "# image of epxression in the confocal \n",
    "# image of expression under the 1 p \n",
    "# image of cell being patched (or maybe just a scheme) \n"
   ]
  }
 ],
 "metadata": {
  "kernelspec": {
   "display_name": "Uri's_project_venv",
   "language": "python",
   "name": "python3"
  },
  "language_info": {
   "codemirror_mode": {
    "name": "ipython",
    "version": 3
   },
   "file_extension": ".py",
   "mimetype": "text/x-python",
   "name": "python",
   "nbconvert_exporter": "python",
   "pygments_lexer": "ipython3",
   "version": "3.13.0"
  }
 },
 "nbformat": 4,
 "nbformat_minor": 5
}
